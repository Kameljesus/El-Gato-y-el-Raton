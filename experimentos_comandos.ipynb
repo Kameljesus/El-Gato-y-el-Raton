{
 "cells": [
  {
   "cell_type": "code",
   "execution_count": 2,
   "id": "ede6b535",
   "metadata": {},
   "outputs": [
    {
     "name": "stdout",
     "output_type": "stream",
     "text": [
      "\n",
      "Movimiento no Permitido: Juegue dentro del mapa\n"
     ]
    }
   ],
   "source": [
    "def fuera_del_mapa():\n",
    "    print(\"\")\n",
    "    print(\"Movimiento no Permitido: Juegue dentro del mapa\")\n",
    "\n",
    "fuera_del_mapa()"
   ]
  }
 ],
 "metadata": {
  "kernelspec": {
   "display_name": "Python 3",
   "language": "python",
   "name": "python3"
  },
  "language_info": {
   "codemirror_mode": {
    "name": "ipython",
    "version": 3
   },
   "file_extension": ".py",
   "mimetype": "text/x-python",
   "name": "python",
   "nbconvert_exporter": "python",
   "pygments_lexer": "ipython3",
   "version": "3.13.3"
  }
 },
 "nbformat": 4,
 "nbformat_minor": 5
}
